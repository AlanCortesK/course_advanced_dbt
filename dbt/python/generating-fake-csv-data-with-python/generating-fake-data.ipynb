{
 "cells": [
  {
   "cell_type": "code",
   "execution_count": 1,
   "id": "56642a59-6441-4a10-9130-343ee943d55f",
   "metadata": {
    "tags": []
   },
   "outputs": [],
   "source": [
    "# Tutorial on: https://blog.dennisokeeffe.com/blog/2021-08-11-generating-fake-csv-data-with-python\n",
    "\n",
    "from faker import Faker\n",
    "\n",
    "fake = Faker()"
   ]
  },
  {
   "cell_type": "code",
   "execution_count": 2,
   "id": "3e07bb2f-2339-4ea2-8ef2-a189c400d4a5",
   "metadata": {
    "tags": []
   },
   "outputs": [
    {
     "name": "stdout",
     "output_type": "stream",
     "text": [
      "Around To Change\n"
     ]
    }
   ],
   "source": [
    "def capitalize(str):\n",
    "    return str.capitalize()\n",
    "words = fake.words()\n",
    "capitalized_words = list(map(capitalize, words))\n",
    "movie_name = ' '.join(capitalized_words)\n",
    "print(movie_name)"
   ]
  },
  {
   "cell_type": "code",
   "execution_count": 3,
   "id": "71322ab3-e8f6-4d4c-bedd-1c62efb9ac13",
   "metadata": {
    "tags": []
   },
   "outputs": [
    {
     "name": "stdout",
     "output_type": "stream",
     "text": [
      "October 16, 2020\n"
     ]
    }
   ],
   "source": [
    "from datetime import datetime\n",
    "\n",
    "date = datetime.strftime(fake.date_time_this_decade(), \"%B %d, %Y\")\n",
    "print(date) # April 30, 2020"
   ]
  },
  {
   "cell_type": "code",
   "execution_count": 4,
   "id": "5e60f301-aa50-4ffb-a19b-5389281e970f",
   "metadata": {
    "tags": []
   },
   "outputs": [
    {
     "name": "stdout",
     "output_type": "stream",
     "text": [
      "Mystery\n"
     ]
    }
   ],
   "source": [
    "# creating a provider for genre\n",
    "from faker.providers import BaseProvider\n",
    "import random\n",
    "\n",
    "# create new provider class\n",
    "class GenereProvider(BaseProvider):\n",
    "    def movie_genre(self):\n",
    "        return random.choice(['Documentary', 'Thriller', 'Mystery', 'Horror', 'Action', 'Comedy', 'Drama', 'Romance'])\n",
    "\n",
    "# then add new provider to faker instance\n",
    "fake.add_provider(GenereProvider)\n",
    "\n",
    "# now you can use:\n",
    "movie_genre = fake.movie_genre()\n",
    "print(movie_genre) # Horror"
   ]
  },
  {
   "cell_type": "code",
   "execution_count": 6,
   "id": "4d4201e6-2ceb-4016-8427-6320df9fdd30",
   "metadata": {
    "tags": []
   },
   "outputs": [
    {
     "name": "stdout",
     "output_type": "stream",
     "text": [
      "Japanese\n"
     ]
    }
   ],
   "source": [
    "# creating a provider for genre\n",
    "from faker.providers import BaseProvider\n",
    "import random\n",
    "\n",
    "# create new provider class\n",
    "class LanguageProvider(BaseProvider):\n",
    "    def language(self):\n",
    "        return random.choice(['English', 'Chinese', 'Italian', 'Spanish', 'Hindi', 'Japanese'])\n",
    "\n",
    "# then add new provider to faker instance\n",
    "fake.add_provider(LanguageProvider)\n",
    "\n",
    "# now you can use:\n",
    "language = fake.language()\n",
    "print(language) # Spanish"
   ]
  },
  {
   "cell_type": "code",
   "execution_count": 7,
   "id": "85942a6b-87de-43db-9277-1a87902855e1",
   "metadata": {
    "tags": []
   },
   "outputs": [
    {
     "name": "stdout",
     "output_type": "stream",
     "text": [
      "109\n"
     ]
    }
   ],
   "source": [
    "# Getting random movie length\n",
    "movie_len = random.randrange(50, 150)\n",
    "print(movie_len) # 143"
   ]
  },
  {
   "cell_type": "code",
   "execution_count": 8,
   "id": "8b0abfbc-4295-4ff0-80bc-8d087c7e0d99",
   "metadata": {
    "tags": []
   },
   "outputs": [
    {
     "name": "stdout",
     "output_type": "stream",
     "text": [
      "3.4\n"
     ]
    }
   ],
   "source": [
    "# Movie rating\n",
    "random_rating = round(random.uniform(1.0, 5.0), 1)\n",
    "print(random_rating) # 2.2"
   ]
  },
  {
   "cell_type": "code",
   "execution_count": 47,
   "id": "6859d650-172b-45cb-be4c-df03f5fbff08",
   "metadata": {
    "tags": []
   },
   "outputs": [],
   "source": [
    "from faker import Faker\n",
    "from faker.providers import BaseProvider\n",
    "import random\n",
    "import csv\n",
    "from datetime import date\n",
    "from dateutil.relativedelta import relativedelta\n",
    "\n",
    "fake = Faker()\n",
    "\n",
    "# Create subscriptions dataset\n",
    "\n",
    "def get_subscription_id():\n",
    "    return random.randrange(1, 5000)\n",
    "\n",
    "def get_user_id():\n",
    "    return random.randrange(1, 5000)\n",
    "\n",
    "def get_subscription_start_timestamp():\n",
    "    return fake.date_time_between(start_date = '-5y') # Business started at least five years ago\n",
    "\n",
    "def get_subscription_end_timestamp():\n",
    "    return get_subscription_start_timestamp() + relativedelta(months=random.randrange(1, 60)) # Business started at least five years ago\n",
    "\n",
    "def get_subscription_plan_id():\n",
    "    return random.randrange(1, 3)\n",
    "\n",
    "def generate_subscription():\n",
    "    return [get_subscription_id(), get_subscription_start_timestamp(), get_subscription_end_timestamp(), get_subscription_plan_id()]\n",
    "\n",
    "with open('subscriptions_data.csv', 'w') as csvfile:\n",
    "    writer = csv.writer(csvfile)\n",
    "    writer.writerow(['subscription_id', 'subscription_starts_at', 'subscription_ends_at', 'subscription_plan_id'])\n",
    "    for n in range(1, 10):\n",
    "        writer.writerow(generate_subscription())"
   ]
  },
  {
   "cell_type": "code",
   "execution_count": null,
   "id": "9cf6108d-0029-4f8c-a4c6-b4cf1030493d",
   "metadata": {},
   "outputs": [],
   "source": [
    "# Create users dataset\n",
    "\n",
    "def get_subscription_id():\n",
    "    return random.randrange(1, 5000)\n",
    "\n",
    "def get_user_id():\n",
    "    return random.randrange(1, 5000)\n",
    "\n",
    "def get_subscription_start_timestamp():\n",
    "    return fake.date_time_between(start_date = '-5y') # Business started at least five years ago\n",
    "\n",
    "def get_subscription_end_timestamp():\n",
    "    return get_subscription_start_timestamp() + relativedelta(months=random.randrange(1, 60)) # Business started at least five years ago\n",
    "\n",
    "def get_subscription_plan_id():\n",
    "    return random.randrange(1, 3)\n",
    "\n",
    "def generate_subscription():\n",
    "    return [get_subscription_id(), get_subscription_start_timestamp(), get_subscription_end_timestamp(), get_subscription_plan_id()]\n",
    "\n",
    "with open('subscriptions_data.csv', 'w') as csvfile:\n",
    "    writer = csv.writer(csvfile)\n",
    "    writer.writerow(['subscription_id', 'subscription_starts_at', 'subscription_ends_at', 'subscription_plan_id'])\n",
    "    for n in range(1, 10):\n",
    "        writer.writerow(generate_subscription())"
   ]
  },
  {
   "cell_type": "code",
   "execution_count": 60,
   "id": "f2fd326e-3772-4de2-a01e-0bd24f90460a",
   "metadata": {
    "tags": []
   },
   "outputs": [
    {
     "data": {
      "text/html": [
       "<div>\n",
       "<style scoped>\n",
       "    .dataframe tbody tr th:only-of-type {\n",
       "        vertical-align: middle;\n",
       "    }\n",
       "\n",
       "    .dataframe tbody tr th {\n",
       "        vertical-align: top;\n",
       "    }\n",
       "\n",
       "    .dataframe thead th {\n",
       "        text-align: right;\n",
       "    }\n",
       "</style>\n",
       "<table border=\"1\" class=\"dataframe\">\n",
       "  <thead>\n",
       "    <tr style=\"text-align: right;\">\n",
       "      <th></th>\n",
       "      <th>name</th>\n",
       "      <th>pet</th>\n",
       "      <th>city</th>\n",
       "      <th>height</th>\n",
       "      <th>birthday</th>\n",
       "    </tr>\n",
       "  </thead>\n",
       "  <tbody>\n",
       "    <tr>\n",
       "      <th>0</th>\n",
       "      <td>Ahmed</td>\n",
       "      <td>crab</td>\n",
       "      <td>Oslo</td>\n",
       "      <td>1.877101</td>\n",
       "      <td>1996-02-26</td>\n",
       "    </tr>\n",
       "    <tr>\n",
       "      <th>1</th>\n",
       "      <td>Elizabeth</td>\n",
       "      <td>crab</td>\n",
       "      <td>Marseille</td>\n",
       "      <td>1.891295</td>\n",
       "      <td>1996-07-25</td>\n",
       "    </tr>\n",
       "    <tr>\n",
       "      <th>2</th>\n",
       "      <td>Juan Luis</td>\n",
       "      <td>crab</td>\n",
       "      <td>Marseille</td>\n",
       "      <td>1.942527</td>\n",
       "      <td>1996-09-02</td>\n",
       "    </tr>\n",
       "    <tr>\n",
       "      <th>3</th>\n",
       "      <td>Mary</td>\n",
       "      <td>chicken</td>\n",
       "      <td>Marseille</td>\n",
       "      <td>1.794940</td>\n",
       "      <td>1996-12-10</td>\n",
       "    </tr>\n",
       "    <tr>\n",
       "      <th>4</th>\n",
       "      <td>Mary</td>\n",
       "      <td>pig</td>\n",
       "      <td>Milwaukee</td>\n",
       "      <td>1.805206</td>\n",
       "      <td>1996-06-08</td>\n",
       "    </tr>\n",
       "  </tbody>\n",
       "</table>\n",
       "</div>"
      ],
      "text/plain": [
       "        name      pet       city    height   birthday\n",
       "0      Ahmed     crab       Oslo  1.877101 1996-02-26\n",
       "1  Elizabeth     crab  Marseille  1.891295 1996-07-25\n",
       "2  Juan Luis     crab  Marseille  1.942527 1996-09-02\n",
       "3       Mary  chicken  Marseille  1.794940 1996-12-10\n",
       "4       Mary      pig  Milwaukee  1.805206 1996-06-08"
      ]
     },
     "execution_count": 60,
     "metadata": {},
     "output_type": "execute_result"
    }
   ],
   "source": [
    "import pandas as pd\n",
    "import numpy as np\n",
    "from faker import Faker\n",
    "from faker.providers import BaseProvider\n",
    "import random\n",
    "import csv\n",
    "from itertools import cycle\n",
    "from datetime import date\n",
    "from dateutil.relativedelta import relativedelta\n",
    "\n",
    "fake = Faker()\n",
    "\n",
    "def generate_fake_dataframe(size, cols, col_names = None, intervals = None, seed = None):\n",
    "    \n",
    "    categories_dict = {'animals': ['cow', 'rabbit', 'duck', 'shrimp', 'pig', 'goat', 'crab', 'deer', 'bee', 'sheep', 'fish', 'turkey', 'dove', 'chicken', 'horse'],\n",
    "                       'names'  : ['James', 'Mary', 'Robert', 'Patricia', 'John', 'Jennifer', 'Michael', 'Linda', 'William', 'Elizabeth', 'Ahmed', 'Barbara', 'Richard', 'Susan', 'Salomon', 'Juan Luis'],\n",
    "                       'cities' : ['Stockholm', 'Denver', 'Moscow', 'Marseille', 'Palermo', 'Tokyo', 'Lisbon', 'Oslo', 'Nairobi', 'Río de Janeiro', 'Berlin', 'Bogotá', 'Manila', 'Madrid', 'Milwaukee'],\n",
    "                       'colors' : ['red', 'orange', 'yellow', 'green', 'blue', 'indigo', 'purple', 'pink', 'silver', 'gold', 'beige', 'brown', 'grey', 'black', 'white']\n",
    "                      }\n",
    "    default_intervals = {\"i\" : (0,10), \"f\" : (0,100), \"c\" : (\"names\", 5), \"d\" : (\"2020-01-01\",\"2020-12-31\")}\n",
    "    rng = np.random.default_rng(seed)\n",
    "\n",
    "    first_c = default_intervals[\"c\"][0]\n",
    "    categories_names = cycle([first_c] + [c for c in categories_dict.keys() if c != first_c])\n",
    "    default_intervals[\"c\"] = (categories_names, default_intervals[\"c\"][1])\n",
    "    \n",
    "    if isinstance(col_names,list):\n",
    "        assert len(col_names) == len(cols), f\"The fake DataFrame should have {len(cols)} columns but col_names is a list with {len(col_names)} elements\"\n",
    "    elif col_names is None:\n",
    "        suffix = {\"c\" : \"cat\", \"i\" : \"int\", \"f\" : \"float\", \"d\" : \"date\"}\n",
    "        col_names = [f\"column_{str(i)}_{suffix.get(col)}\" for i, col in enumerate(cols)]\n",
    "\n",
    "    if isinstance(intervals,list):\n",
    "        assert len(intervals) == len(cols), f\"The fake DataFrame should have {len(cols)} columns but intervals is a list with {len(intervals)} elements\"\n",
    "    else:\n",
    "        if isinstance(intervals,dict):\n",
    "            assert len(set(intervals.keys()) - set(default_intervals.keys())) == 0, f\"The intervals parameter has invalid keys\"\n",
    "            default_intervals.update(intervals)\n",
    "        intervals = [default_intervals[col] for col in cols]\n",
    "    df = pd.DataFrame()\n",
    "    for col, col_name, interval in zip(cols, col_names, intervals):\n",
    "        if interval is None:\n",
    "            interval = default_intervals[col]\n",
    "        assert (len(interval) == 2 and isinstance(interval, tuple)) or isinstance(interval, list), f\"This interval {interval} is neither a tuple of two elements nor a list of strings.\"\n",
    "        if col in (\"i\",\"f\",\"d\"):\n",
    "            start, end = interval\n",
    "        if col == \"i\":\n",
    "            df[col_name] = rng.integers(start, end, size)\n",
    "        elif col == \"f\":\n",
    "            df[col_name] = rng.uniform(start, end, size)\n",
    "        elif col == \"c\":\n",
    "            if isinstance(interval, list):\n",
    "                categories = np.array(interval)\n",
    "            else:\n",
    "                cat_family, length = interval\n",
    "                if isinstance(cat_family, cycle):\n",
    "                    cat_family = next(cat_family)\n",
    "                assert cat_family in categories_dict.keys(), f\"There are no samples for category '{cat_family}'. Consider passing a list of samples or use one of the available categories: {categories_dict.keys()}\"\n",
    "                categories = rng.choice(categories_dict[cat_family], length, replace = False, shuffle = True)\n",
    "            df[col_name] = rng.choice(categories, size, shuffle = True)\n",
    "        elif col == \"d\":\n",
    "            df[col_name] = rng.choice(pd.date_range(start, end), size)\n",
    "    return df\n",
    "\n",
    "\n",
    "df1 = generate_fake_dataframe(\n",
    "  size = 10, \n",
    "  cols = \"cccfd\", \n",
    "  col_names=[\"name\", \"pet\", \"city\",\"height\", \"birthday\"],\n",
    "  intervals = {\"f\" : (1.72,1.95), \"d\" : (\"1996-01-01\",\"1996-12-31\")},\n",
    "  seed=42)\n",
    "\n",
    "df1.head()"
   ]
  },
  {
   "cell_type": "code",
   "execution_count": null,
   "id": "e9fbbd00-cbb9-4701-8eb3-56f83c8c7f59",
   "metadata": {
    "tags": []
   },
   "outputs": [],
   "source": []
  }
 ],
 "metadata": {
  "kernelspec": {
   "display_name": "Python 3 (ipykernel)",
   "language": "python",
   "name": "python3"
  },
  "language_info": {
   "codemirror_mode": {
    "name": "ipython",
    "version": 3
   },
   "file_extension": ".py",
   "mimetype": "text/x-python",
   "name": "python",
   "nbconvert_exporter": "python",
   "pygments_lexer": "ipython3",
   "version": "3.8.9"
  }
 },
 "nbformat": 4,
 "nbformat_minor": 5
}
